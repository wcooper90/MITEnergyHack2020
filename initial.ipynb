{
 "cells": [
  {
   "cell_type": "code",
   "execution_count": 1,
   "metadata": {},
   "outputs": [],
   "source": [
    "# MITEnergyHack2020\n",
    "# Joules in Lockdown \n",
    "# Challenge: Chargepoint \n",
    "# Mode: Hardcore\n",
    "# Bag: Securing \n",
    "# Heads: Down\n",
    "# Money: Up "
   ]
  },
  {
   "cell_type": "code",
   "execution_count": 180,
   "metadata": {},
   "outputs": [],
   "source": [
    "# don't need all of these imports for the time being, if you don't have them installed can just remove them\n",
    "# except fo json, the acnportal group\n",
    "import acnportal\n",
    "import pytz\n",
    "from datetime import datetime\n",
    "\n",
    "import matplotlib\n",
    "import matplotlib.pyplot as plt\n",
    "\n",
    "import acnportal\n",
    "from acnportal import acnsim\n",
    "from acnportal import algorithms\n",
    "import pandas as pd\n",
    "import json "
   ]
  },
  {
   "cell_type": "code",
   "execution_count": 134,
   "metadata": {},
   "outputs": [],
   "source": [
    "api_token = ''"
   ]
  },
  {
   "cell_type": "code",
   "execution_count": 135,
   "metadata": {},
   "outputs": [],
   "source": [
    "# change the site (currently caltech) and the dates to whatever you need \n",
    "data = acnportal.acndata.DataClient(api_token, url='https://ev.caltech.edu/api/v1/sessions/caltech?where=connectionTime>=\"Sun, 6 Oct 2019 00:00:00 GMT\"and connectionTime<=\"Sun, 14 Oct 2019 00:00:00 GMT\"&pretty')\n"
   ]
  },
  {
   "cell_type": "code",
   "execution_count": 136,
   "metadata": {},
   "outputs": [
    {
     "name": "stdout",
     "output_type": "stream",
     "text": [
      "{'_id': '5daf9f0ff9af8b1d29c0a380', 'userInputs': [{'userID': 243, 'milesRequested': 120, 'WhPerMile': 200, 'minutesAvailable': 88, 'modifiedAt': 'Sun, 06 Oct 2019 22:27:57 GMT', 'paymentRequired': True, 'requestedDeparture': 'Sun, 06 Oct 2019 23:55:45 GMT', 'kWhRequested': 24.0}], 'userID': '000000243', 'sessionID': '2_39_124_22_2019-10-06 22:27:44.874484', 'stationID': '2-39-124-22', 'spaceID': 'CA-312', 'siteID': '0002', 'clusterID': '0039', 'connectionTime': datetime.datetime(2019, 10, 6, 15, 27, 45, tzinfo=<DstTzInfo 'America/Los_Angeles' PDT-1 day, 17:00:00 DST>), 'disconnectTime': datetime.datetime(2019, 10, 6, 15, 37, 16, tzinfo=<DstTzInfo 'America/Los_Angeles' PDT-1 day, 17:00:00 DST>), 'kWhDelivered': 1.019, 'doneChargingTime': datetime.datetime(2019, 10, 6, 15, 37, 12, tzinfo=<DstTzInfo 'America/Los_Angeles' PDT-1 day, 17:00:00 DST>), 'timezone': 'America/Los_Angeles'}\n"
     ]
    }
   ],
   "source": [
    "# change this string to whatever site you need\n",
    "raw = data.get_sessions('caltech')\n",
    "\n",
    "py_dict = {}\n",
    "counter = 0\n",
    "\n",
    "\n",
    "# catches json lines which can't be processed \n",
    "try: \n",
    "    for values in raw:\n",
    "        py_dict[counter] = values\n",
    "        counter += 1\n",
    "\n",
    "except:\n",
    "    pass\n",
    "    \n",
    "# creates json object \n",
    "json_object = json.dumps(py_dict, indent=4, sort_keys=True, default=str)\n",
    "\n",
    "\n",
    "\n",
    "\n",
    "# writes to json file \n",
    "with open(\"sample.json\", \"w\") as outfile: \n",
    "    outfile.write(json_object)\n",
    "    \n",
    "\n",
    "for value in py_dict:\n",
    "    print(py_dict[value])\n",
    "    break"
   ]
  },
  {
   "cell_type": "code",
   "execution_count": 172,
   "metadata": {},
   "outputs": [],
   "source": [
    "df = pd.read_json('sample.json')\n",
    "df = df.swapaxes(0, 1)\n",
    "\n",
    "for (columnName, columnData) in df.iteritems(): \n",
    "    if columnName == \"connectionTime\":\n",
    "        for i, item in enumerate(columnData):\n",
    "            df[columnName][i] = df[columnName][i][:-6]\n",
    "            \n",
    "    if columnName == \"doneChargingTime\":\n",
    "        for i, item in enumerate(columnData):\n",
    "            df[columnName][i] = df[columnName][i][:-6]\n",
    "        \n",
    "    if columnName == \"disconnectTime\":\n",
    "        for i, item in enumerate(columnData):\n",
    "            df[columnName][i] = df[columnName][i][:-6]\n",
    "\n",
    "df.to_csv('ACNOct06-14.csv')\n"
   ]
  },
  {
   "cell_type": "code",
   "execution_count": 185,
   "metadata": {},
   "outputs": [
    {
     "name": "stdout",
     "output_type": "stream",
     "text": [
      "['2019-10-06 15:37:12', '2019-10-06 16:37:39', '2019-10-08 11:44:59', '2019-10-06 18:54:18', '2019-10-07 17:26:32', '2019-10-07 12:22:10', '2019-10-07 12:02:38', '2019-10-07 10:50:29', '2019-10-07 12:44:37', '2019-10-07 16:35:06', '2019-10-07 13:09:45', '2019-10-07 11:20:22', '2019-10-07 13:23:28', '2019-10-07 14:25:26', '2019-10-07 13:56:33', '2019-10-07 13:00:43', '2019-10-07 13:14:51', '2019-10-07 13:56:35', '2019-10-07 14:24:12', '2019-10-07 14:58:30', '2019-10-07 17:48:47', '2019-10-07 16:14:19', '2019-10-07 11:44:12', '2019-10-07 12:20:36', '2019-10-07 14:07:49', '2019-10-07 13:40:06', '2019-10-07 12:50:43', '2019-10-07 13:20:26', '2019-10-07 13:46:21', '2019-10-07 16:53:43', '2019-10-07 16:51:57', '2019-10-07 17:12:10', '2019-10-07 20:11:30', '2019-10-07 19:33:08', '2019-10-07 22:18:18', '2019-10-08 06:26:28', '2019-10-08 10:20:32', '2019-10-08 13:19:30', '2019-10-08 14:35:27', '2019-10-08 08:49:38', '2019-10-08 14:12:43', '2019-10-08 13:19:40', '2019-10-08 09:05:58', '2019-10-08 14:34:22', '2019-10-08 11:56:52', '2019-10-08 10:50:54', '2019-10-08 10:15:41', '2019-10-08 11:34:11', '2019-10-08 11:34:00', '2019-10-08 11:27:39', '2019-10-08 10:44:55', '2019-10-08 11:03:11', '2019-10-08 11:52:33', '2019-10-08 11:05:48', '2019-10-08 17:16:47', '2019-10-08 14:05:37', '2019-10-08 13:12:21', '2019-10-08 13:17:59', '2019-10-08 12:25:48', '2019-10-08 13:09:55', '2019-10-08 14:29:08', '2019-10-08 12:21:49', '2019-10-08 17:23:14', '2019-10-08 17:16:42', '2019-10-08 13:46:49', '2019-10-08 14:35:27', '2019-10-08 16:00:48', '2019-10-08 17:37:29', '2019-10-08 21:43:55', '2019-10-08 18:42:22', '2019-10-08 21:24:02', '2019-10-08 18:31:58', '2019-10-08 21:37:42', '2019-10-08 21:51:58', '2019-10-09 10:34:39', '2019-10-09 11:24:00', '2019-10-09 12:55:56', '2019-10-09 09:55:37', '2019-10-09 09:14:30', '2019-10-09 10:26:02', '2019-10-09 10:54:36', '2019-10-09 13:54:00', '2019-10-09 10:39:58', '2019-10-09 11:36:36', '2019-10-09 18:24:25', '2019-10-09 10:03:35', '2019-10-09 11:48:38', '2019-10-09 15:31:11', '2019-10-09 13:19:28', '2019-10-09 11:19:59', '2019-10-09 13:07:23', '2019-10-09 15:47:17', '2019-10-09 15:36:39', '2019-10-09 11:44:43', '2019-10-09 11:19:22', '2019-10-09 12:59:03', '2019-10-09 18:16:01', '2019-10-09 14:22:35', '2019-10-09 17:24:56', '2019-10-09 14:39:01', '2019-10-09 16:42:23', '2019-10-09 14:19:32', '2019-10-09 16:10:14', '2019-10-09 17:39:44', '2019-10-09 18:50:14', '2019-10-09 22:53:01', '2019-10-09 19:10:10', '2019-10-09 20:44:30', '2019-10-10 06:26:26', '2019-10-10 11:33:21', '2019-10-10 09:49:30', '2019-10-10 11:52:41', '2019-10-10 09:35:48', '2019-10-10 10:14:54', '2019-10-10 16:50:37', '2019-10-10 10:22:37', '2019-10-10 09:40:54', '2019-10-10 14:33:17', '2019-10-10 10:56:57', '2019-10-10 14:03:23', '2019-10-10 10:25:20', '2019-10-10 14:32:37', '2019-10-10 14:32:21', '2019-10-10 10:29:01', '2019-10-10 15:53:23', '2019-10-10 10:50:48', '2019-10-10 12:17:46', '2019-10-10 12:05:18', '2019-10-10 15:10:55', '2019-10-10 13:15:02', '2019-10-10 12:26:29', '2019-10-10 12:07:32', '2019-10-10 13:11:32', '2019-10-10 13:30:24', '2019-10-10 14:49:08', '2019-10-10 14:26:07', '2019-10-10 16:14:50', '2019-10-10 15:17:09', '2019-10-10 16:47:09', '2019-10-10 17:15:49', '2019-10-10 22:17:43', '2019-10-10 21:55:23', '2019-10-10 21:45:15', '2019-10-10 21:35:54', '2019-10-11 06:26:26', '2019-10-10 23:17:07', '2019-10-11 01:07:58', '2019-10-11 06:44:04', '2019-10-11 09:05:18', '2019-10-11 15:50:13', '2019-10-11 09:45:05', '2019-10-11 10:02:20', '2019-10-11 11:55:42', '2019-10-11 14:30:21', '2019-10-11 10:59:54', '2019-10-11 10:08:32', '2019-10-11 11:28:02', '2019-10-11 09:44:41', '2019-10-11 10:03:51', '2019-10-11 10:23:45', '2019-10-11 10:39:53', '2019-10-11 12:49:02', '2019-10-11 13:03:01', '2019-10-11 10:35:27', '2019-10-11 19:17:42', '2019-10-11 13:03:12', '2019-10-11 11:15:00', '2019-10-11 19:28:11', '2019-10-11 15:41:09', '2019-10-11 18:11:15', '2019-10-11 15:59:10', '2019-10-11 13:31:22', '2019-10-11 16:32:54', '2019-10-11 15:35:44', '2019-10-11 17:19:49', '2019-10-11 18:07:41', '2019-10-11 17:27:23', '2019-10-11 19:44:44', '2019-10-12 11:44:19', '2019-10-12 10:00:21', '2019-10-12 11:00:33', '2019-10-12 09:40:17', '2019-10-12 15:02:29', '2019-10-12 11:44:17', '2019-10-12 14:20:53', '2019-10-12 15:05:05', '2019-10-12 17:00:52', '2019-10-12 15:48:31', '2019-10-12 15:38:17', '2019-10-12 18:22:31', '2019-10-12 17:44:00', '2019-10-12 19:49:01', '2019-10-12 20:04:02', '2019-10-13 12:16:12', '2019-10-13 12:27:31', '2019-10-13 13:57:26', '2019-10-13 12:49:46', '2019-10-13 17:40:46', '2019-10-13 15:47:28', '2019-10-13 20:00:28']\n"
     ]
    },
    {
     "data": {
      "text/plain": [
       "[<matplotlib.lines.Line2D at 0x7f8d7e2c9c50>]"
      ]
     },
     "execution_count": 185,
     "metadata": {},
     "output_type": "execute_result"
    },
    {
     "data": {
      "image/png": "[encoded data removed]",
      "text/plain": [
       "<Figure size 432x288 with 1 Axes>"
      ]
     },
     "metadata": {
      "needs_background": "light"
     },
     "output_type": "display_data"
    }
   ],
   "source": [
    "full = []\n",
    "disconnect = []\n",
    "waste_time = []\n",
    "\n",
    "news1 = [] \n",
    "news2 = [] \n",
    "values = [x for x in range(200)]\n",
    "\n",
    "\n",
    "for (columnName, columnData) in df.iteritems(): \n",
    "    if columnName == \"doneChargingTime\":\n",
    "        for i, item in enumerate(columnData):\n",
    "            full.append(item)\n",
    "        \n",
    "    if columnName == \"disconnectTime\":\n",
    "        for i, item in enumerate(columnData):\n",
    "            disconnect.append(item)\n",
    "            \n",
    "print(full)\n",
    "    \n",
    "\n",
    "for i in range(len(full)):\n",
    "    \n",
    "    new = datetime.strptime(full[i], '%Y-%m-%d %H:%M:%S')\n",
    "    new2 = datetime.strptime(disconnect[i], '%Y-%m-%d %H:%M:%S')\n",
    "    \n",
    "    news1.append(new)\n",
    "    news2.append(new2)\n",
    "    \n",
    "    \n",
    "    time = new2 - new\n",
    "    \n",
    "    if new > new2: \n",
    "        waste_time.append(None)        \n",
    "    else:\n",
    "        waste_time.append(time)\n",
    "        \n",
    "        \n",
    "dates = matplotlib.dates.date2num(news1)\n",
    "dates2 = matplotlib.dates.date2num(news2)\n",
    "plt.plot_date(dates, dates2)\n"
   ]
  },
  {
   "cell_type": "code",
   "execution_count": null,
   "metadata": {},
   "outputs": [],
   "source": []
  }
 ],
 "metadata": {
  "kernelspec": {
   "display_name": "Python 3",
   "language": "python",
   "name": "python3"
  },
  "language_info": {
   "codemirror_mode": {
    "name": "ipython",
    "version": 3
   },
   "file_extension": ".py",
   "mimetype": "text/x-python",
   "name": "python",
   "nbconvert_exporter": "python",
   "pygments_lexer": "ipython3",
   "version": "3.6.9"
  }
 },
 "nbformat": 4,
 "nbformat_minor": 4
}
