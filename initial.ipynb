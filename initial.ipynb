{
 "cells": [
  {
   "cell_type": "code",
   "execution_count": 1,
   "metadata": {},
   "outputs": [],
   "source": [
    "# MITEnergyHack2020\n",
    "# Joules in Lockdown \n",
    "# Challenge: Chargepoint \n",
    "# Mode: Hardcore\n",
    "# Bag: Securing \n",
    "# Heads: Down\n",
    "# Money: Up "
   ]
  },
  {
   "cell_type": "code",
   "execution_count": 69,
   "metadata": {},
   "outputs": [],
   "source": [
    "# don't need all of these imports for the time being, if you don't have them installed can just remove them\n",
    "# except fo json, the acnportal group\n",
    "import acnportal\n",
    "import pytz\n",
    "from datetime import datetime\n",
    "\n",
    "import matplotlib.pyplot as plt\n",
    "\n",
    "from acnportal import acnsim\n",
    "from acnportal import algorithms\n",
    "import pandas as pd\n",
    "import json "
   ]
  },
  {
   "cell_type": "code",
   "execution_count": 70,
   "metadata": {},
   "outputs": [],
   "source": [
    "api_token = 'PASTE API KEY HERE'"
   ]
  },
  {
   "cell_type": "code",
   "execution_count": 71,
   "metadata": {},
   "outputs": [],
   "source": [
    "# change the site (currently caltech) and the dates to whatever you need \n",
    "\n",
    "data = acnportal.acndata.DataClient(api_token, url='https://ev.caltech.edu/api/v1/sessions/caltech? \\\n",
    "        where=connectionTime>=\"Wed, 1 May 2019 00:00:00 GMT\" \\\n",
    "        and connectionTime<=\"Thu, 2 May 2019 00:00:00 GMT\" \\\n",
    "        &pretty')"
   ]
  },
  {
   "cell_type": "code",
   "execution_count": 72,
   "metadata": {},
   "outputs": [],
   "source": [
    "# change this string to whatever site you need\n",
    "bruh = data.get_sessions('caltech')\n",
    "\n",
    "py_dict = {}\n",
    "counter = 0\n",
    "\n",
    "# catches json lines which can't be processed \n",
    "try: \n",
    "    for values in bruh:\n",
    "        py_dict[counter] = values\n",
    "        counter += 1\n",
    "except:\n",
    "    pass\n",
    "    \n",
    "# creates json object \n",
    "json_object = json.dumps(py_dict, indent=4, sort_keys=True, default=str)\n",
    "\n",
    "\n",
    "# writes to json file \n",
    "with open(\"sample.json\", \"w\") as outfile: \n",
    "    outfile.write(json_object)"
   ]
  },
  {
   "cell_type": "code",
   "execution_count": null,
   "metadata": {},
   "outputs": [],
   "source": []
  }
 ],
 "metadata": {
  "kernelspec": {
   "display_name": "Python 3",
   "language": "python",
   "name": "python3"
  },
  "language_info": {
   "codemirror_mode": {
    "name": "ipython",
    "version": 3
   },
   "file_extension": ".py",
   "mimetype": "text/x-python",
   "name": "python",
   "nbconvert_exporter": "python",
   "pygments_lexer": "ipython3",
   "version": "3.6.9"
  }
 },
 "nbformat": 4,
 "nbformat_minor": 4
}
