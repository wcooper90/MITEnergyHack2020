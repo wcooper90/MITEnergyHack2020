{
 "cells": [
  {
   "cell_type": "code",
   "execution_count": 1,
   "metadata": {},
   "outputs": [],
   "source": [
    "# MITEnergyHack2020\n",
    "# Joules in Lockdown \n",
    "# Challenge: Chargepoint \n",
    "# Mode: Hardcore\n",
    "# Bag: Securing \n",
    "# Heads: Down\n",
    "# Money: Up "
   ]
  },
  {
   "cell_type": "code",
   "execution_count": 93,
   "metadata": {},
   "outputs": [],
   "source": [
    "# don't need all of these imports for the time being, if you don't have them installed can just remove them\n",
    "# except fo json, the acnportal group\n",
    "import acnportal\n",
    "import pytz\n",
    "from datetime import datetime\n",
    "\n",
    "import matplotlib.pyplot as plt\n",
    "\n",
    "import acnportal\n",
    "from acnportal import acnsim\n",
    "from acnportal import algorithms\n",
    "import pandas as pd\n",
    "import json "
   ]
  },
  {
   "cell_type": "code",
   "execution_count": 101,
   "metadata": {},
   "outputs": [],
   "source": [
    "api_token = '8KYbJwOK3TuhBnVwUpdAJSH2G_KRcSO33ENXkzL4xTE'"
   ]
  },
  {
   "cell_type": "code",
   "execution_count": 130,
   "metadata": {},
   "outputs": [],
   "source": [
    "# change the site (currently caltech) and the dates to whatever you need \n",
    "data = acnportal.acndata.DataClient(api_token, url='https://ev.caltech.edu/api/v1/sessions/caltech?where=connectionTime>=\"Sun, 6 Oct 2019 00:00:00 GMT\"and connectionTime<=\"Sun, 14 Oct 2019 00:00:00 GMT\"&pretty')\n"
   ]
  },
  {
   "cell_type": "code",
   "execution_count": 131,
   "metadata": {},
   "outputs": [
    {
     "name": "stdout",
     "output_type": "stream",
     "text": [
      "{'_id': '5daf9f0ff9af8b1d29c0a380', 'userInputs': [{'userID': 243, 'milesRequested': 120, 'WhPerMile': 200, 'minutesAvailable': 88, 'modifiedAt': 'Sun, 06 Oct 2019 22:27:57 GMT', 'paymentRequired': True, 'requestedDeparture': 'Sun, 06 Oct 2019 23:55:45 GMT', 'kWhRequested': 24.0}], 'userID': '000000243', 'sessionID': '2_39_124_22_2019-10-06 22:27:44.874484', 'stationID': '2-39-124-22', 'spaceID': 'CA-312', 'siteID': '0002', 'clusterID': '0039', 'connectionTime': datetime.datetime(2019, 10, 6, 15, 27, 45, tzinfo=<DstTzInfo 'America/Los_Angeles' PDT-1 day, 17:00:00 DST>), 'disconnectTime': datetime.datetime(2019, 10, 6, 15, 37, 16, tzinfo=<DstTzInfo 'America/Los_Angeles' PDT-1 day, 17:00:00 DST>), 'kWhDelivered': 1.019, 'doneChargingTime': datetime.datetime(2019, 10, 6, 15, 37, 12, tzinfo=<DstTzInfo 'America/Los_Angeles' PDT-1 day, 17:00:00 DST>), 'timezone': 'America/Los_Angeles'}\n"
     ]
    }
   ],
   "source": [
    "# change this string to whatever site you need\n",
    "raw = data.get_sessions('caltech')\n",
    "\n",
    "py_dict = {}\n",
    "counter = 0\n",
    "\n",
    "\n",
    "# catches json lines which can't be processed \n",
    "try: \n",
    "    for values in raw:\n",
    "        py_dict[counter] = values\n",
    "        counter += 1\n",
    "\n",
    "except:\n",
    "    pass\n",
    "    \n",
    "# creates json object \n",
    "json_object = json.dumps(py_dict, indent=4, sort_keys=True, default=str)\n",
    "\n",
    "\n",
    "\n",
    "\n",
    "# writes to json file \n",
    "with open(\"sample.json\", \"w\") as outfile: \n",
    "    outfile.write(json_object)\n",
    "    \n",
    "\n",
    "for value in py_dict:\n",
    "    print(py_dict[value])\n",
    "    break"
   ]
  },
  {
   "cell_type": "code",
   "execution_count": 132,
   "metadata": {},
   "outputs": [],
   "source": [
    "df = pd.read_json('sample.json')\n",
    "df = df.swapaxes(0, 1)\n",
    "df = df.to_csv('data.csv')"
   ]
  },
  {
   "cell_type": "code",
   "execution_count": null,
   "metadata": {},
   "outputs": [],
   "source": []
  }
 ],
 "metadata": {
  "kernelspec": {
   "display_name": "Python 3",
   "language": "python",
   "name": "python3"
  },
  "language_info": {
   "codemirror_mode": {
    "name": "ipython",
    "version": 3
   },
   "file_extension": ".py",
   "mimetype": "text/x-python",
   "name": "python",
   "nbconvert_exporter": "python",
   "pygments_lexer": "ipython3",
   "version": "3.6.9"
  }
 },
 "nbformat": 4,
 "nbformat_minor": 4
}
